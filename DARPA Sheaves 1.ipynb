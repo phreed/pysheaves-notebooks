{
 "cells": [
  {
   "cell_type": "markdown",
   "metadata": {
    "collapsed": true
   },
   "source": [
    "This notebook covers the first interactive session\n",
    "-------------------------------------------------------\n",
    "\n",
    "Dataset 2: DARPA Sheaf Tutorial\n",
    "Original source: Michael Robinson, American University <michaelr@american.edu>, collected using a modified version of software originally written by Daniel Muellner and Mikael Vejdemo-Johansson.\n",
    "Preparer: Michael Robinson, American University <michaelr@american.edu>\n",
    "Collection date: July 2011\n",
    "Copyright 2015: The data in this directory were prepared for use at the DARPA Tutorial on Sheaves in Data Analytics, August 25-26, 2015.  Permission is granted for the use of the data in that context alone; all other rights are reserved.  Any further dissemination requires permission of the original source.\n",
    "\n"
   ]
  },
  {
   "cell_type": "markdown",
   "metadata": {},
   "source": [
    "Principal components analysis of wifi data\n",
    "\n",
    "Copyright (c) 2015, Michael Robinson\n",
    "Distribution of unaltered copies permitted for noncommercial use only\n",
    "All other uses require express permission of the author\n",
    "This software comes with no warrantees express or implied\n",
    "\n",
    "https://www.youtube.com/watch?v=b1Wu8kTngoE"
   ]
  },
  {
   "cell_type": "code",
   "execution_count": 1,
   "metadata": {
    "collapsed": false
   },
   "outputs": [],
   "source": [
    "import numpy as np\n",
    "from mpl_toolkits.mplot3d import Axes3D\n",
    "import matplotlib.pyplot as plt"
   ]
  },
  {
   "cell_type": "code",
   "execution_count": 2,
   "metadata": {
    "collapsed": false
   },
   "outputs": [],
   "source": [
    "# Ingest data\n",
    "pts=[]\n",
    "with open('loop2.csv','rt') as f1:\n",
    "    f1.readline() # Skip header\n",
    "    for line in f1:\n",
    "        pts.append(np.array(map(float,line.split(','))))"
   ]
  },
  {
   "cell_type": "code",
   "execution_count": 3,
   "metadata": {
    "collapsed": true
   },
   "outputs": [],
   "source": [
    "# Run PCA for visualization\n",
    "ptsmat=np.array(pts).T\n",
    "u,s,v=np.linalg.svd(np.dot(ptsmat,ptsmat.T))\n",
    "locations=np.dot(v[0:3,:],ptsmat).T"
   ]
  },
  {
   "cell_type": "code",
   "execution_count": 4,
   "metadata": {
    "collapsed": true
   },
   "outputs": [],
   "source": [
    "# Plot the result\n",
    "fig=plt.figure()\n",
    "ax=Axes3D(fig)\n",
    "ax.hold(True)\n",
    "ax.scatter(locations[:,0],locations[:,1],locations[:,2])\n",
    "plt.show()"
   ]
  },
  {
   "cell_type": "code",
   "execution_count": null,
   "metadata": {
    "collapsed": true
   },
   "outputs": [],
   "source": []
  }
 ],
 "metadata": {
  "kernelspec": {
   "display_name": "Python 2",
   "language": "python",
   "name": "python2"
  },
  "language_info": {
   "codemirror_mode": {
    "name": "ipython",
    "version": 2
   },
   "file_extension": ".py",
   "mimetype": "text/x-python",
   "name": "python",
   "nbconvert_exporter": "python",
   "pygments_lexer": "ipython2",
   "version": "2.7.10"
  }
 },
 "nbformat": 4,
 "nbformat_minor": 0
}
